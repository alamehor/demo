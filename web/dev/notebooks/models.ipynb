{
 "cells": [
  {
   "cell_type": "markdown",
   "metadata": {},
   "source": [
    "# Models: Vectors, POS Tagger, Dependency Parser, NER\n",
    "\n",
    "This notebook demonstrates the usage of Polish models that we developed for spaCy. \n",
    "\n",
    "At the moment of writing this, our last pull request was not yet accepted to spaCy master branch.\n",
    "You can install spaCy from our pull request branch to reproduce our results:\n",
    "```\n",
    "pip install https://github.com/spacy-pl/spaCy/archive/pl-release/lemmatizer-tagmap-and-tests.zip\n",
    "```\n",
    "and make sure to also install a model that contains Polish POS Tagger (necessary for lemmatization to work correctly):\n",
    "```\n",
    "pip install https://storage.googleapis.com/spacy-pl-public-models/pl_model-1.0.0.tar.gz\n",
    "```"
   ]
  },
  {
   "cell_type": "code",
   "execution_count": 1,
   "metadata": {},
   "outputs": [],
   "source": [
    "import spacy"
   ]
  },
  {
   "cell_type": "code",
   "execution_count": 2,
   "metadata": {},
   "outputs": [],
   "source": [
    "nlp = spacy.load('pl_model')"
   ]
  },
  {
   "cell_type": "code",
   "execution_count": 3,
   "metadata": {},
   "outputs": [],
   "source": [
    "doc = nlp(\"Polacy nie gęsi, iż swój język mają.\")\n",
    "# source: https://pl.wikiquote.org/wiki/A_niechaj_narodowie_w%C5%BCdy_postronni_znaj%C4%85"
   ]
  },
  {
   "cell_type": "markdown",
   "metadata": {},
   "source": [
    "## POS Tagger and Dependency Parser\n",
    "\n",
    "Currently, POS Tagger and Dependency Parser perform at the level of accuracy similar to corresponding models for other languages in spaCy,\n",
    "and a few percent worse than the state-of-the-art models for Polish."
   ]
  },
  {
   "cell_type": "code",
   "execution_count": 4,
   "metadata": {},
   "outputs": [
    {
     "data": {
      "text/html": [
       "<svg xmlns=\"http://www.w3.org/2000/svg\" xmlns:xlink=\"http://www.w3.org/1999/xlink\" xml:lang=\"pl\" id=\"7d6821aabb6f47af8f0d7e5b60610850-0\" class=\"displacy\" width=\"890\" height=\"377.0\" direction=\"ltr\" style=\"max-width: none; height: 377.0px; color: #000000; background: #ffffff; font-family: Arial; direction: ltr\">\n",
       "<text class=\"displacy-token\" fill=\"currentColor\" text-anchor=\"middle\" y=\"287.0\">\n",
       "    <tspan class=\"displacy-word\" fill=\"currentColor\" x=\"50\">Polacy</tspan>\n",
       "    <tspan class=\"displacy-tag\" dy=\"2em\" fill=\"currentColor\" x=\"50\">NOUN</tspan>\n",
       "</text>\n",
       "\n",
       "<text class=\"displacy-token\" fill=\"currentColor\" text-anchor=\"middle\" y=\"287.0\">\n",
       "    <tspan class=\"displacy-word\" fill=\"currentColor\" x=\"170\">nie</tspan>\n",
       "    <tspan class=\"displacy-tag\" dy=\"2em\" fill=\"currentColor\" x=\"170\">PART</tspan>\n",
       "</text>\n",
       "\n",
       "<text class=\"displacy-token\" fill=\"currentColor\" text-anchor=\"middle\" y=\"287.0\">\n",
       "    <tspan class=\"displacy-word\" fill=\"currentColor\" x=\"290\">gęsi,</tspan>\n",
       "    <tspan class=\"displacy-tag\" dy=\"2em\" fill=\"currentColor\" x=\"290\">NOUN</tspan>\n",
       "</text>\n",
       "\n",
       "<text class=\"displacy-token\" fill=\"currentColor\" text-anchor=\"middle\" y=\"287.0\">\n",
       "    <tspan class=\"displacy-word\" fill=\"currentColor\" x=\"410\">iż</tspan>\n",
       "    <tspan class=\"displacy-tag\" dy=\"2em\" fill=\"currentColor\" x=\"410\">SCONJ</tspan>\n",
       "</text>\n",
       "\n",
       "<text class=\"displacy-token\" fill=\"currentColor\" text-anchor=\"middle\" y=\"287.0\">\n",
       "    <tspan class=\"displacy-word\" fill=\"currentColor\" x=\"530\">swój</tspan>\n",
       "    <tspan class=\"displacy-tag\" dy=\"2em\" fill=\"currentColor\" x=\"530\">ADJ</tspan>\n",
       "</text>\n",
       "\n",
       "<text class=\"displacy-token\" fill=\"currentColor\" text-anchor=\"middle\" y=\"287.0\">\n",
       "    <tspan class=\"displacy-word\" fill=\"currentColor\" x=\"650\">język</tspan>\n",
       "    <tspan class=\"displacy-tag\" dy=\"2em\" fill=\"currentColor\" x=\"650\">NOUN</tspan>\n",
       "</text>\n",
       "\n",
       "<text class=\"displacy-token\" fill=\"currentColor\" text-anchor=\"middle\" y=\"287.0\">\n",
       "    <tspan class=\"displacy-word\" fill=\"currentColor\" x=\"770\">mają.</tspan>\n",
       "    <tspan class=\"displacy-tag\" dy=\"2em\" fill=\"currentColor\" x=\"770\">VERB</tspan>\n",
       "</text>\n",
       "\n",
       "<g class=\"displacy-arrow\">\n",
       "    <path class=\"displacy-arc\" id=\"arrow-7d6821aabb6f47af8f0d7e5b60610850-0-0\" stroke-width=\"2px\" d=\"M62,242.0 62,202.0 284.0,202.0 284.0,242.0\" fill=\"none\" stroke=\"currentColor\"/>\n",
       "    <text dy=\"1.25em\" style=\"font-size: 0.8em; letter-spacing: 1px\">\n",
       "        <textPath xlink:href=\"#arrow-7d6821aabb6f47af8f0d7e5b60610850-0-0\" class=\"displacy-label\" startOffset=\"50%\" side=\"left\" fill=\"currentColor\" text-anchor=\"middle\">nsubj</textPath>\n",
       "    </text>\n",
       "    <path class=\"displacy-arrowhead\" d=\"M62,244.0 L58,236.0 66,236.0\" fill=\"currentColor\"/>\n",
       "</g>\n",
       "\n",
       "<g class=\"displacy-arrow\">\n",
       "    <path class=\"displacy-arc\" id=\"arrow-7d6821aabb6f47af8f0d7e5b60610850-0-1\" stroke-width=\"2px\" d=\"M182,242.0 182,222.0 281.0,222.0 281.0,242.0\" fill=\"none\" stroke=\"currentColor\"/>\n",
       "    <text dy=\"1.25em\" style=\"font-size: 0.8em; letter-spacing: 1px\">\n",
       "        <textPath xlink:href=\"#arrow-7d6821aabb6f47af8f0d7e5b60610850-0-1\" class=\"displacy-label\" startOffset=\"50%\" side=\"left\" fill=\"currentColor\" text-anchor=\"middle\">advmod</textPath>\n",
       "    </text>\n",
       "    <path class=\"displacy-arrowhead\" d=\"M182,244.0 L178,236.0 186,236.0\" fill=\"currentColor\"/>\n",
       "</g>\n",
       "\n",
       "<g class=\"displacy-arrow\">\n",
       "    <path class=\"displacy-arc\" id=\"arrow-7d6821aabb6f47af8f0d7e5b60610850-0-2\" stroke-width=\"2px\" d=\"M422,242.0 422,182.0 767.0,182.0 767.0,242.0\" fill=\"none\" stroke=\"currentColor\"/>\n",
       "    <text dy=\"1.25em\" style=\"font-size: 0.8em; letter-spacing: 1px\">\n",
       "        <textPath xlink:href=\"#arrow-7d6821aabb6f47af8f0d7e5b60610850-0-2\" class=\"displacy-label\" startOffset=\"50%\" side=\"left\" fill=\"currentColor\" text-anchor=\"middle\">mark</textPath>\n",
       "    </text>\n",
       "    <path class=\"displacy-arrowhead\" d=\"M422,244.0 L418,236.0 426,236.0\" fill=\"currentColor\"/>\n",
       "</g>\n",
       "\n",
       "<g class=\"displacy-arrow\">\n",
       "    <path class=\"displacy-arc\" id=\"arrow-7d6821aabb6f47af8f0d7e5b60610850-0-3\" stroke-width=\"2px\" d=\"M542,242.0 542,222.0 641.0,222.0 641.0,242.0\" fill=\"none\" stroke=\"currentColor\"/>\n",
       "    <text dy=\"1.25em\" style=\"font-size: 0.8em; letter-spacing: 1px\">\n",
       "        <textPath xlink:href=\"#arrow-7d6821aabb6f47af8f0d7e5b60610850-0-3\" class=\"displacy-label\" startOffset=\"50%\" side=\"left\" fill=\"currentColor\" text-anchor=\"middle\">det</textPath>\n",
       "    </text>\n",
       "    <path class=\"displacy-arrowhead\" d=\"M542,244.0 L538,236.0 546,236.0\" fill=\"currentColor\"/>\n",
       "</g>\n",
       "\n",
       "<g class=\"displacy-arrow\">\n",
       "    <path class=\"displacy-arc\" id=\"arrow-7d6821aabb6f47af8f0d7e5b60610850-0-4\" stroke-width=\"2px\" d=\"M662,242.0 662,222.0 761.0,222.0 761.0,242.0\" fill=\"none\" stroke=\"currentColor\"/>\n",
       "    <text dy=\"1.25em\" style=\"font-size: 0.8em; letter-spacing: 1px\">\n",
       "        <textPath xlink:href=\"#arrow-7d6821aabb6f47af8f0d7e5b60610850-0-4\" class=\"displacy-label\" startOffset=\"50%\" side=\"left\" fill=\"currentColor\" text-anchor=\"middle\">nsubj</textPath>\n",
       "    </text>\n",
       "    <path class=\"displacy-arrowhead\" d=\"M662,244.0 L658,236.0 666,236.0\" fill=\"currentColor\"/>\n",
       "</g>\n",
       "\n",
       "<g class=\"displacy-arrow\">\n",
       "    <path class=\"displacy-arc\" id=\"arrow-7d6821aabb6f47af8f0d7e5b60610850-0-5\" stroke-width=\"2px\" d=\"M302,242.0 302,162.0 770.0,162.0 770.0,242.0\" fill=\"none\" stroke=\"currentColor\"/>\n",
       "    <text dy=\"1.25em\" style=\"font-size: 0.8em; letter-spacing: 1px\">\n",
       "        <textPath xlink:href=\"#arrow-7d6821aabb6f47af8f0d7e5b60610850-0-5\" class=\"displacy-label\" startOffset=\"50%\" side=\"left\" fill=\"currentColor\" text-anchor=\"middle\">ccomp</textPath>\n",
       "    </text>\n",
       "    <path class=\"displacy-arrowhead\" d=\"M770.0,244.0 L774.0,236.0 766.0,236.0\" fill=\"currentColor\"/>\n",
       "</g>\n",
       "</svg>"
      ],
      "text/plain": [
       "<IPython.core.display.HTML object>"
      ]
     },
     "metadata": {},
     "output_type": "display_data"
    }
   ],
   "source": [
    "spacy.displacy.render(doc, style='dep', options={'compact': True, 'distance': 120})"
   ]
  },
  {
   "cell_type": "markdown",
   "metadata": {},
   "source": [
    "## Named Entity Recognition\n",
    "\n",
    "As for the Named Entity Recognizer, there is a challenge of dataset selection for Polish language:\n",
    "- NKJP corpus has only 5 tags, and large portion of dataset is incorrectly labeled\n",
    "- PWr corpus is well-labeled using 58 tags, but is significantly smaller than NKJP\n",
    "\n",
    "The NER shipped in `pl_model==0.3.0` is trained on PWr with number of tags reduced to 19.\n",
    "While results are mostly correct, it's F-score of 39% is disappointing and there is still room for improvement. \n",
    "In particulat, we are planning to experiment more with tag merging vs dropping tags, to reduce number of tags even further."
   ]
  },
  {
   "cell_type": "code",
   "execution_count": 5,
   "metadata": {},
   "outputs": [],
   "source": [
    "doc = nlp(\"\"\"\n",
    "Światowe Forum Ekonomiczne (ang. World Economic Forum, WEF) – szwajcarska fundacja non-profit znana z organizacji corocznej konferencji w Davos.\n",
    "\n",
    "Konferencja w Davos jest spotkaniem prezesów najbogatszych światowych korporacji, przywódców politycznych (prezydentów, premierów i innych) oraz wybranych intelektualistów i dziennikarzy. Bierze w nim udział około 2000 osób. W roku 2013 konferencja odbyła się w dniach 23–27 stycznia[1].\n",
    "\n",
    "Oprócz konferencji w Davos fundacja organizuje również spotkania regionalne oraz publikuje raporty.\n",
    "\n",
    "WEF zostało założone w 1971 r. przez Klausa W. Schwaba, niemieckiego profesora biznesu.\n",
    "\n",
    "Według zwolenników, WEF jest odpowiednim miejscem dla dialogu i debaty na temat głównych społecznych i ekonomicznych problemów planety, ponieważ wśród uczestników obecni są przedstawiciele największych ekonomicznych organizacji i najbardziej wpływowych organizacji politycznych, a także intelektualistów, co sprzyja odpowiedniej atmosferze do prowadzenia szerokiej i otwartej debaty.\n",
    "\n",
    "Według krytyków WEF, jest to tylko forum biznesu, na którym najbogatsze przedsiębiorstwa mogą łatwo negocjować umowy między sobą, a także wywierać nacisk na najbardziej wpływowych polityków świata. Zdaniem krytyków, celem tych spotkań jest bardziej zysk niż rozwiązywanie ekonomicznych problemów, takich jak bieda. Uważa się, że WEF jest zdominowane przez korporacje i ma wpływ na globalne podejmowanie decyzji, więc jest postrzegany przez krytyków jako niewybierany, niedemokratyczny, elitarny, poufny światowy Senat. Do 2001 roku głównymi zarządami podejmującymi decyzje w WEF były Forum Zarządu Dyrektorów i Rada Zarządu Dyrektorów.\n",
    "\n",
    "Z tych powodów, w trakcie spotkań WEF (szczególnie od czasu Corocznych Spotkań WEF w styczniu 2000) przeciwnicy regularnie organizują protesty. Akty ograniczania praw obywatelskich podczas protestów są odbierane przez krytyków jako dowód współpracy między władzami lokalnymi a WEF przeciwko prawom człowieka.\n",
    "\"\"\")  # source: https://pl.wikipedia.org/wiki/%C5%9Awiatowe_Forum_Ekonomiczne"
   ]
  },
  {
   "cell_type": "code",
   "execution_count": 6,
   "metadata": {},
   "outputs": [
    {
     "data": {
      "text/html": [
       "<div class=\"entities\" style=\"line-height: 2.5; direction: ltr\"></br>\n",
       "<mark class=\"entity\" style=\"background: #7aecec; padding: 0.45em 0.6em; margin: 0 0.25em; line-height: 1; border-radius: 0.35em; box-decoration-break: clone; -webkit-box-decoration-break: clone\">\n",
       "    Światowe Forum Ekonomiczne\n",
       "    <span style=\"font-size: 0.8em; font-weight: bold; line-height: 1; border-radius: 0.35em; text-transform: uppercase; vertical-align: middle; margin-left: 0.5rem\">ORG</span>\n",
       "</mark>\n",
       " (ang. World Economic Forum, WEF) – szwajcarska fundacja non-profit znana z organizacji corocznej konferencji w \n",
       "<mark class=\"entity\" style=\"background: #feca74; padding: 0.45em 0.6em; margin: 0 0.25em; line-height: 1; border-radius: 0.35em; box-decoration-break: clone; -webkit-box-decoration-break: clone\">\n",
       "    Davos\n",
       "    <span style=\"font-size: 0.8em; font-weight: bold; line-height: 1; border-radius: 0.35em; text-transform: uppercase; vertical-align: middle; margin-left: 0.5rem\">GPE</span>\n",
       "</mark>\n",
       ".</br></br>Konferencja w \n",
       "<mark class=\"entity\" style=\"background: #feca74; padding: 0.45em 0.6em; margin: 0 0.25em; line-height: 1; border-radius: 0.35em; box-decoration-break: clone; -webkit-box-decoration-break: clone\">\n",
       "    Davos\n",
       "    <span style=\"font-size: 0.8em; font-weight: bold; line-height: 1; border-radius: 0.35em; text-transform: uppercase; vertical-align: middle; margin-left: 0.5rem\">GPE</span>\n",
       "</mark>\n",
       " jest spotkaniem prezesów najbogatszych światowych korporacji, przywódców politycznych (prezydentów, premierów i innych) oraz wybranych intelektualistów i dziennikarzy. Bierze w nim udział około 2000 osób. W roku 2013 konferencja odbyła się w dniach 23–27 stycznia[1].</br></br>Oprócz konferencji w \n",
       "<mark class=\"entity\" style=\"background: #feca74; padding: 0.45em 0.6em; margin: 0 0.25em; line-height: 1; border-radius: 0.35em; box-decoration-break: clone; -webkit-box-decoration-break: clone\">\n",
       "    Davos\n",
       "    <span style=\"font-size: 0.8em; font-weight: bold; line-height: 1; border-radius: 0.35em; text-transform: uppercase; vertical-align: middle; margin-left: 0.5rem\">GPE</span>\n",
       "</mark>\n",
       " fundacja organizuje również spotkania regionalne oraz publikuje raporty.</br></br>\n",
       "<mark class=\"entity\" style=\"background: #7aecec; padding: 0.45em 0.6em; margin: 0 0.25em; line-height: 1; border-radius: 0.35em; box-decoration-break: clone; -webkit-box-decoration-break: clone\">\n",
       "    WEF\n",
       "    <span style=\"font-size: 0.8em; font-weight: bold; line-height: 1; border-radius: 0.35em; text-transform: uppercase; vertical-align: middle; margin-left: 0.5rem\">ORG</span>\n",
       "</mark>\n",
       " zostało założone w 1971 r. przez \n",
       "<mark class=\"entity\" style=\"background: #aa9cfc; padding: 0.45em 0.6em; margin: 0 0.25em; line-height: 1; border-radius: 0.35em; box-decoration-break: clone; -webkit-box-decoration-break: clone\">\n",
       "    Klausa W. Schwaba\n",
       "    <span style=\"font-size: 0.8em; font-weight: bold; line-height: 1; border-radius: 0.35em; text-transform: uppercase; vertical-align: middle; margin-left: 0.5rem\">PERSON</span>\n",
       "</mark>\n",
       ", niemieckiego profesora biznesu.</br></br>Według zwolenników, \n",
       "<mark class=\"entity\" style=\"background: #7aecec; padding: 0.45em 0.6em; margin: 0 0.25em; line-height: 1; border-radius: 0.35em; box-decoration-break: clone; -webkit-box-decoration-break: clone\">\n",
       "    WEF\n",
       "    <span style=\"font-size: 0.8em; font-weight: bold; line-height: 1; border-radius: 0.35em; text-transform: uppercase; vertical-align: middle; margin-left: 0.5rem\">ORG</span>\n",
       "</mark>\n",
       " jest odpowiednim miejscem dla dialogu i debaty na temat głównych społecznych i ekonomicznych problemów planety, ponieważ wśród uczestników obecni są przedstawiciele największych ekonomicznych organizacji i najbardziej wpływowych organizacji politycznych, a także intelektualistów, co sprzyja odpowiedniej atmosferze do prowadzenia szerokiej i otwartej debaty.</br></br>Według krytyków \n",
       "<mark class=\"entity\" style=\"background: #bfeeb7; padding: 0.45em 0.6em; margin: 0 0.25em; line-height: 1; border-radius: 0.35em; box-decoration-break: clone; -webkit-box-decoration-break: clone\">\n",
       "    WEF\n",
       "    <span style=\"font-size: 0.8em; font-weight: bold; line-height: 1; border-radius: 0.35em; text-transform: uppercase; vertical-align: middle; margin-left: 0.5rem\">PRODUCT</span>\n",
       "</mark>\n",
       ", jest to tylko forum biznesu, na którym najbogatsze przedsiębiorstwa mogą łatwo negocjować umowy między sobą, a także wywierać nacisk na najbardziej wpływowych polityków świata. Zdaniem krytyków, celem tych spotkań jest bardziej zysk niż rozwiązywanie ekonomicznych problemów, takich jak bieda. Uważa się, że \n",
       "<mark class=\"entity\" style=\"background: #bfeeb7; padding: 0.45em 0.6em; margin: 0 0.25em; line-height: 1; border-radius: 0.35em; box-decoration-break: clone; -webkit-box-decoration-break: clone\">\n",
       "    WEF\n",
       "    <span style=\"font-size: 0.8em; font-weight: bold; line-height: 1; border-radius: 0.35em; text-transform: uppercase; vertical-align: middle; margin-left: 0.5rem\">PRODUCT</span>\n",
       "</mark>\n",
       " jest zdominowane przez korporacje i ma wpływ na globalne podejmowanie decyzji, więc jest postrzegany przez krytyków jako niewybierany, niedemokratyczny, elitarny, poufny światowy \n",
       "<mark class=\"entity\" style=\"background: #7aecec; padding: 0.45em 0.6em; margin: 0 0.25em; line-height: 1; border-radius: 0.35em; box-decoration-break: clone; -webkit-box-decoration-break: clone\">\n",
       "    Senat\n",
       "    <span style=\"font-size: 0.8em; font-weight: bold; line-height: 1; border-radius: 0.35em; text-transform: uppercase; vertical-align: middle; margin-left: 0.5rem\">ORG</span>\n",
       "</mark>\n",
       ". Do 2001 roku głównymi zarządami podejmującymi decyzje w \n",
       "<mark class=\"entity\" style=\"background: #7aecec; padding: 0.45em 0.6em; margin: 0 0.25em; line-height: 1; border-radius: 0.35em; box-decoration-break: clone; -webkit-box-decoration-break: clone\">\n",
       "    WEF\n",
       "    <span style=\"font-size: 0.8em; font-weight: bold; line-height: 1; border-radius: 0.35em; text-transform: uppercase; vertical-align: middle; margin-left: 0.5rem\">ORG</span>\n",
       "</mark>\n",
       " były Forum Zarządu Dyrektorów i Rada Zarządu Dyrektorów.</br></br>Z tych powodów, w trakcie spotkań \n",
       "<mark class=\"entity\" style=\"background: #bfeeb7; padding: 0.45em 0.6em; margin: 0 0.25em; line-height: 1; border-radius: 0.35em; box-decoration-break: clone; -webkit-box-decoration-break: clone\">\n",
       "    WEF\n",
       "    <span style=\"font-size: 0.8em; font-weight: bold; line-height: 1; border-radius: 0.35em; text-transform: uppercase; vertical-align: middle; margin-left: 0.5rem\">PRODUCT</span>\n",
       "</mark>\n",
       " (szczególnie od czasu \n",
       "<mark class=\"entity\" style=\"background: #7aecec; padding: 0.45em 0.6em; margin: 0 0.25em; line-height: 1; border-radius: 0.35em; box-decoration-break: clone; -webkit-box-decoration-break: clone\">\n",
       "    Corocznych Spotkań\n",
       "    <span style=\"font-size: 0.8em; font-weight: bold; line-height: 1; border-radius: 0.35em; text-transform: uppercase; vertical-align: middle; margin-left: 0.5rem\">ORG</span>\n",
       "</mark>\n",
       " \n",
       "<mark class=\"entity\" style=\"background: #7aecec; padding: 0.45em 0.6em; margin: 0 0.25em; line-height: 1; border-radius: 0.35em; box-decoration-break: clone; -webkit-box-decoration-break: clone\">\n",
       "    WEF\n",
       "    <span style=\"font-size: 0.8em; font-weight: bold; line-height: 1; border-radius: 0.35em; text-transform: uppercase; vertical-align: middle; margin-left: 0.5rem\">ORG</span>\n",
       "</mark>\n",
       " w styczniu 2000) przeciwnicy regularnie organizują protesty. Akty ograniczania praw obywatelskich podczas protestów są odbierane przez krytyków jako dowód współpracy między władzami lokalnymi a \n",
       "<mark class=\"entity\" style=\"background: #7aecec; padding: 0.45em 0.6em; margin: 0 0.25em; line-height: 1; border-radius: 0.35em; box-decoration-break: clone; -webkit-box-decoration-break: clone\">\n",
       "    WEF\n",
       "    <span style=\"font-size: 0.8em; font-weight: bold; line-height: 1; border-radius: 0.35em; text-transform: uppercase; vertical-align: middle; margin-left: 0.5rem\">ORG</span>\n",
       "</mark>\n",
       " przeciwko prawom człowieka.\n",
       "</div>"
      ],
      "text/plain": [
       "<IPython.core.display.HTML object>"
      ]
     },
     "metadata": {},
     "output_type": "display_data"
    }
   ],
   "source": [
    "spacy.displacy.render(doc, style='ent')"
   ]
  }
 ],
 "metadata": {
  "kernelspec": {
   "display_name": "Python 3",
   "language": "python",
   "name": "python3"
  },
  "language_info": {
   "codemirror_mode": {
    "name": "ipython",
    "version": 3
   },
   "file_extension": ".py",
   "mimetype": "text/x-python",
   "name": "python",
   "nbconvert_exporter": "python",
   "pygments_lexer": "ipython3",
   "version": "3.7.1"
  }
 },
 "nbformat": 4,
 "nbformat_minor": 2
}
