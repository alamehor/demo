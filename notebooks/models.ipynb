{
 "cells": [
  {
   "cell_type": "markdown",
   "metadata": {},
   "source": [
    "# Models: Vectors, POS Tagger, Dependency Parser, NER\n",
    "\n",
    "This notebook demonstrates the usage of Polish models that we develop for spaCy. It uses the spaCy version from [demo branch of our forked spaCy repository](https://github.com/spacy-pl/spaCy/tree/demo) and model generation pipelines from [demo branch of our utils repository](https://github.com/spacy-pl/utils/tree/demo).\n",
    "\n",
    "The notebook will be completed as soon as our POC models are trained and packaged - we anticipate this to happen before end of March 2019."
   ]
  }
 ],
 "metadata": {
  "kernelspec": {
   "display_name": "Python 3",
   "language": "python",
   "name": "python3"
  },
  "language_info": {
   "codemirror_mode": {
    "name": "ipython",
    "version": 3
   },
   "file_extension": ".py",
   "mimetype": "text/x-python",
   "name": "python",
   "nbconvert_exporter": "python",
   "pygments_lexer": "ipython3",
   "version": "3.7.2"
  }
 },
 "nbformat": 4,
 "nbformat_minor": 2
}
